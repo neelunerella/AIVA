{
 "cells": [
  {
   "cell_type": "markdown",
   "id": "4a0b8bfc",
   "metadata": {},
   "source": [
    "# Creating the Machine Learning Model to train the model's detection of emotion"
   ]
  },
  {
   "cell_type": "code",
   "execution_count": 1,
   "id": "2d2fcda9",
   "metadata": {},
   "outputs": [],
   "source": [
    "import pandas as pd\n",
    "import numpy as np"
   ]
  },
  {
   "cell_type": "code",
   "execution_count": 2,
   "id": "7fa595df",
   "metadata": {},
   "outputs": [
    {
     "data": {
      "text/html": [
       "<div>\n",
       "<style scoped>\n",
       "    .dataframe tbody tr th:only-of-type {\n",
       "        vertical-align: middle;\n",
       "    }\n",
       "\n",
       "    .dataframe tbody tr th {\n",
       "        vertical-align: top;\n",
       "    }\n",
       "\n",
       "    .dataframe thead th {\n",
       "        text-align: right;\n",
       "    }\n",
       "</style>\n",
       "<table border=\"1\" class=\"dataframe\">\n",
       "  <thead>\n",
       "    <tr style=\"text-align: right;\">\n",
       "      <th></th>\n",
       "      <th>Unnamed: 0</th>\n",
       "      <th>text</th>\n",
       "      <th>Emotion</th>\n",
       "    </tr>\n",
       "  </thead>\n",
       "  <tbody>\n",
       "    <tr>\n",
       "      <th>0</th>\n",
       "      <td>0</td>\n",
       "      <td>i seriously hate one subject to death but now ...</td>\n",
       "      <td>hate</td>\n",
       "    </tr>\n",
       "    <tr>\n",
       "      <th>1</th>\n",
       "      <td>1</td>\n",
       "      <td>im so full of life i feel appalled</td>\n",
       "      <td>neutral</td>\n",
       "    </tr>\n",
       "    <tr>\n",
       "      <th>2</th>\n",
       "      <td>2</td>\n",
       "      <td>i sit here to write i start to dig out my feel...</td>\n",
       "      <td>neutral</td>\n",
       "    </tr>\n",
       "    <tr>\n",
       "      <th>3</th>\n",
       "      <td>3</td>\n",
       "      <td>ive been really angry with r and i feel like a...</td>\n",
       "      <td>anger</td>\n",
       "    </tr>\n",
       "    <tr>\n",
       "      <th>4</th>\n",
       "      <td>4</td>\n",
       "      <td>i feel suspicious if there is no one outside l...</td>\n",
       "      <td>neutral</td>\n",
       "    </tr>\n",
       "  </tbody>\n",
       "</table>\n",
       "</div>"
      ],
      "text/plain": [
       "   Unnamed: 0                                               text  Emotion\n",
       "0           0  i seriously hate one subject to death but now ...     hate\n",
       "1           1                 im so full of life i feel appalled  neutral\n",
       "2           2  i sit here to write i start to dig out my feel...  neutral\n",
       "3           3  ive been really angry with r and i feel like a...    anger\n",
       "4           4  i feel suspicious if there is no one outside l...  neutral"
      ]
     },
     "execution_count": 2,
     "metadata": {},
     "output_type": "execute_result"
    }
   ],
   "source": [
    "ed = pd.read_csv(\"emotion_sentimen_dataset.csv\")\n",
    "ed.head()"
   ]
  },
  {
   "cell_type": "code",
   "execution_count": 3,
   "id": "c7b17251",
   "metadata": {},
   "outputs": [],
   "source": [
    "from sklearn.model_selection import train_test_split\n",
    "from sklearn.preprocessing import StandardScaler\n",
    "import tensorflow as tf\n",
    "from keras.layers import Dense\n",
    "from keras.models import Sequential"
   ]
  },
  {
   "cell_type": "code",
   "execution_count": 4,
   "id": "39d9e866",
   "metadata": {},
   "outputs": [
    {
     "data": {
      "text/html": [
       "<div>\n",
       "<style scoped>\n",
       "    .dataframe tbody tr th:only-of-type {\n",
       "        vertical-align: middle;\n",
       "    }\n",
       "\n",
       "    .dataframe tbody tr th {\n",
       "        vertical-align: top;\n",
       "    }\n",
       "\n",
       "    .dataframe thead th {\n",
       "        text-align: right;\n",
       "    }\n",
       "</style>\n",
       "<table border=\"1\" class=\"dataframe\">\n",
       "  <thead>\n",
       "    <tr style=\"text-align: right;\">\n",
       "      <th></th>\n",
       "      <th>text</th>\n",
       "      <th>Emotion</th>\n",
       "    </tr>\n",
       "  </thead>\n",
       "  <tbody>\n",
       "    <tr>\n",
       "      <th>0</th>\n",
       "      <td>i seriously hate one subject to death but now ...</td>\n",
       "      <td>hate</td>\n",
       "    </tr>\n",
       "    <tr>\n",
       "      <th>1</th>\n",
       "      <td>im so full of life i feel appalled</td>\n",
       "      <td>neutral</td>\n",
       "    </tr>\n",
       "    <tr>\n",
       "      <th>2</th>\n",
       "      <td>i sit here to write i start to dig out my feel...</td>\n",
       "      <td>neutral</td>\n",
       "    </tr>\n",
       "    <tr>\n",
       "      <th>3</th>\n",
       "      <td>ive been really angry with r and i feel like a...</td>\n",
       "      <td>anger</td>\n",
       "    </tr>\n",
       "    <tr>\n",
       "      <th>4</th>\n",
       "      <td>i feel suspicious if there is no one outside l...</td>\n",
       "      <td>neutral</td>\n",
       "    </tr>\n",
       "  </tbody>\n",
       "</table>\n",
       "</div>"
      ],
      "text/plain": [
       "                                                text  Emotion\n",
       "0  i seriously hate one subject to death but now ...     hate\n",
       "1                 im so full of life i feel appalled  neutral\n",
       "2  i sit here to write i start to dig out my feel...  neutral\n",
       "3  ive been really angry with r and i feel like a...    anger\n",
       "4  i feel suspicious if there is no one outside l...  neutral"
      ]
     },
     "execution_count": 4,
     "metadata": {},
     "output_type": "execute_result"
    }
   ],
   "source": [
    "ed = ed.drop(columns=\"Unnamed: 0\")\n",
    "ed.head()"
   ]
  },
  {
   "cell_type": "code",
   "execution_count": 5,
   "id": "e8fc8f0a",
   "metadata": {},
   "outputs": [],
   "source": [
    "# Get X (text) and y (label)\n",
    "X = ed['text']\n",
    "y = ed['Emotion']"
   ]
  },
  {
   "cell_type": "code",
   "execution_count": 6,
   "id": "f1c6dfcc",
   "metadata": {},
   "outputs": [],
   "source": [
    "X_train, X_test, y_train, y_test = train_test_split(X, y, test_size=0.2, random_state=42)"
   ]
  },
  {
   "cell_type": "code",
   "execution_count": 7,
   "id": "48bb668e",
   "metadata": {},
   "outputs": [],
   "source": [
    "# Tokenize the text and pad sequences - nlp stuff\n",
    "from tensorflow.keras.preprocessing.text import Tokenizer\n",
    "from tensorflow.keras.preprocessing.sequence import pad_sequences\n",
    "\n",
    "# hyperparams\n",
    "vocab_size = 10000 # change based on dataset size\n",
    "max_length = 100 # max words per sentence\n",
    "trunc_type = 'post'\n",
    "padding_type = 'post'\n",
    "oov_token = \"<OOV>\"\n",
    "\n",
    "# tokenizer to convert words to integers\n",
    "tokenizer = Tokenizer(num_words=vocab_size, oov_token=oov_token)\n",
    "tokenizer.fit_on_texts(X_train)\n",
    "\n",
    "# convert text to sequences\n",
    "X_train_seq = tokenizer.texts_to_sequences(X_train)\n",
    "X_test_seq = tokenizer.texts_to_sequences(X_test)\n",
    "\n",
    "# pad sequences to ensure equal length\n",
    "X_train_pad = pad_sequences(X_train_seq, maxlen = max_length, padding=padding_type, truncating=trunc_type)\n",
    "X_test_pad = pad_sequences(X_test_seq, maxlen = max_length, padding=padding_type, truncating=trunc_type)"
   ]
  },
  {
   "cell_type": "code",
   "execution_count": 8,
   "id": "04a4493e",
   "metadata": {},
   "outputs": [],
   "source": [
    "# Encode Emotional Labels\n",
    "from sklearn.preprocessing import LabelEncoder\n",
    "label_encoder = LabelEncoder()\n",
    "label_encoder.fit(y_train)\n",
    "\n",
    "y_train_enc = label_encoder.transform(y_train)\n",
    "y_test_enc = label_encoder.transform(y_test)\n",
    "\n",
    "from keras.utils import to_categorical\n",
    "y_train_cat = to_categorical(y_train_enc)\n",
    "y_test_cat = to_categorical(y_test_enc)"
   ]
  },
  {
   "cell_type": "code",
   "execution_count": 9,
   "id": "9fc51cd3",
   "metadata": {},
   "outputs": [
    {
     "name": "stdout",
     "output_type": "stream",
     "text": [
      "Model: \"sequential\"\n",
      "_________________________________________________________________\n",
      " Layer (type)                Output Shape              Param #   \n",
      "=================================================================\n",
      " embedding (Embedding)       (None, 100, 64)           640000    \n",
      "                                                                 \n",
      " global_average_pooling1d (G  (None, 64)               0         \n",
      " lobalAveragePooling1D)                                          \n",
      "                                                                 \n",
      " dense (Dense)               (None, 32)                2080      \n",
      "                                                                 \n",
      " dense_1 (Dense)             (None, 13)                429       \n",
      "                                                                 \n",
      "=================================================================\n",
      "Total params: 642,509\n",
      "Trainable params: 642,509\n",
      "Non-trainable params: 0\n",
      "_________________________________________________________________\n"
     ]
    }
   ],
   "source": [
    "# Build the Keras Model\n",
    "from keras.layers import Embedding, GlobalAveragePooling1D\n",
    "\n",
    "model = Sequential()\n",
    "model.add(Embedding(input_dim=vocab_size, output_dim=64, input_length=max_length))\n",
    "model.add(GlobalAveragePooling1D())\n",
    "model.add(Dense(32, activation=\"relu\"))\n",
    "model.add(Dense(y_train_cat.shape[1], activation=\"softmax\"))\n",
    "\n",
    "model.compile(loss=\"categorical_crossentropy\", optimizer=\"adam\", metrics=['accuracy'])\n",
    "model.summary()"
   ]
  },
  {
   "cell_type": "code",
   "execution_count": 10,
   "id": "016f310f",
   "metadata": {},
   "outputs": [
    {
     "name": "stdout",
     "output_type": "stream",
     "text": [
      "Epoch 1/10\n"
     ]
    },
    {
     "name": "stderr",
     "output_type": "stream",
     "text": [
      "2025-06-02 18:43:07.482805: W tensorflow/tsl/platform/profile_utils/cpu_utils.cc:128] Failed to get CPU frequency: 0 Hz\n"
     ]
    },
    {
     "name": "stdout",
     "output_type": "stream",
     "text": [
      "20989/20989 [==============================] - 56s 3ms/step - loss: 0.2936 - accuracy: 0.9265\n",
      "Epoch 2/10\n",
      "20989/20989 [==============================] - 57s 3ms/step - loss: 0.0450 - accuracy: 0.9929\n",
      "Epoch 3/10\n",
      "20989/20989 [==============================] - 59s 3ms/step - loss: 0.0287 - accuracy: 0.9956\n",
      "Epoch 4/10\n",
      "20989/20989 [==============================] - 60s 3ms/step - loss: 0.0229 - accuracy: 0.9965\n",
      "Epoch 5/10\n",
      "20989/20989 [==============================] - 62s 3ms/step - loss: 0.0198 - accuracy: 0.9970\n",
      "Epoch 6/10\n",
      "20989/20989 [==============================] - 58s 3ms/step - loss: 0.0171 - accuracy: 0.9973\n",
      "Epoch 7/10\n",
      "20989/20989 [==============================] - 59s 3ms/step - loss: 0.0149 - accuracy: 0.9975\n",
      "Epoch 8/10\n",
      "20989/20989 [==============================] - 60s 3ms/step - loss: 0.0131 - accuracy: 0.9978\n",
      "Epoch 9/10\n",
      "20989/20989 [==============================] - 58s 3ms/step - loss: 0.0118 - accuracy: 0.9978\n",
      "Epoch 10/10\n",
      "20989/20989 [==============================] - 60s 3ms/step - loss: 0.0107 - accuracy: 0.9980\n",
      "5248/5248 [==============================] - 2s 368us/step - loss: 0.0200 - accuracy: 0.9973\n",
      "Test accuracy: 0.997308075428009\n"
     ]
    }
   ],
   "source": [
    "model.fit(X_train_pad, y_train_cat, epochs=10, batch_size=32)\n",
    "loss, accuracy = model.evaluate(X_test_pad, y_test_cat)\n",
    "print(\"Test accuracy:\", accuracy)\n"
   ]
  },
  {
   "cell_type": "code",
   "execution_count": 11,
   "id": "f05924f9",
   "metadata": {},
   "outputs": [
    {
     "data": {
      "text/plain": [
       "['label_encoder.joblib']"
      ]
     },
     "execution_count": 11,
     "metadata": {},
     "output_type": "execute_result"
    }
   ],
   "source": [
    "model.save('emoModel.keras')\n",
    "\n",
    "import joblib\n",
    "joblib.dump(tokenizer, \"tokenizer.joblib\")\n",
    "\n",
    "joblib.dump(label_encoder, \"label_encoder.joblib\")\n"
   ]
  },
  {
   "cell_type": "code",
   "execution_count": 12,
   "id": "46307ba9",
   "metadata": {},
   "outputs": [
    {
     "name": "stdout",
     "output_type": "stream",
     "text": [
      "1/1 [==============================] - 0s 35ms/step\n",
      "['neutral']\n"
     ]
    }
   ],
   "source": [
    "from EmoModelClass import EmoModelWrapper\n",
    "new_inst = EmoModelWrapper(\"emoModel.keras\", \"tokenizer.joblib\", \"label_encoder.joblib\", 100)\n",
    "\n",
    "new_data = [\"you are annoying\"]\n",
    "prediction = new_inst.predict(new_data)\n",
    "print(prediction)"
   ]
  },
  {
   "cell_type": "code",
   "execution_count": 34,
   "id": "994939b2",
   "metadata": {},
   "outputs": [
    {
     "name": "stdout",
     "output_type": "stream",
     "text": [
      "1/1 [==============================] - 0s 67ms/step\n",
      "['neutral' 'enthusiasm']\n"
     ]
    }
   ],
   "source": [
    "text_input = [\"I'm fine\", \"I am excited about today\"]\n",
    "predictions = new_inst.predict(text_input)\n",
    "\n",
    "print(predictions)"
   ]
  },
  {
   "cell_type": "code",
   "execution_count": null,
   "id": "be2ed0eb",
   "metadata": {},
   "outputs": [],
   "source": []
  },
  {
   "cell_type": "code",
   "execution_count": null,
   "id": "2f600024",
   "metadata": {},
   "outputs": [],
   "source": []
  }
 ],
 "metadata": {
  "kernelspec": {
   "display_name": "venv",
   "language": "python",
   "name": "python3"
  },
  "language_info": {
   "codemirror_mode": {
    "name": "ipython",
    "version": 3
   },
   "file_extension": ".py",
   "mimetype": "text/x-python",
   "name": "python",
   "nbconvert_exporter": "python",
   "pygments_lexer": "ipython3",
   "version": "3.10.17"
  }
 },
 "nbformat": 4,
 "nbformat_minor": 5
}
