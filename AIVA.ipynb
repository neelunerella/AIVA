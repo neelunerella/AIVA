{
  "nbformat": 4,
  "nbformat_minor": 0,
  "metadata": {
    "colab": {
      "provenance": []
    },
    "kernelspec": {
      "name": "python3",
      "display_name": "Python 3"
    },
    "language_info": {
      "name": "python"
    }
  },
  "cells": [
    {
      "cell_type": "code",
      "execution_count": 13,
      "metadata": {
        "colab": {
          "base_uri": "https://localhost:8080/"
        },
        "id": "S3QBaNPr2sjL",
        "outputId": "86c11233-c73e-48f8-e4d7-5612672fc1dd"
      },
      "outputs": [
        {
          "output_type": "stream",
          "name": "stdout",
          "text": [
            "Requirement already satisfied: SpeechRecognition in /usr/local/lib/python3.10/dist-packages (3.10.1)\n",
            "Requirement already satisfied: pyttsx3 in /usr/local/lib/python3.10/dist-packages (2.90)\n",
            "Requirement already satisfied: wolframalpha in /usr/local/lib/python3.10/dist-packages (5.0.0)\n",
            "Requirement already satisfied: wikipedia in /usr/local/lib/python3.10/dist-packages (1.4.0)\n",
            "Requirement already satisfied: twilio in /usr/local/lib/python3.10/dist-packages (8.12.0)\n",
            "Requirement already satisfied: beautifulsoup4 in /usr/local/lib/python3.10/dist-packages (4.11.2)\n",
            "Requirement already satisfied: requests>=2.26.0 in /usr/local/lib/python3.10/dist-packages (from SpeechRecognition) (2.31.0)\n",
            "Requirement already satisfied: typing-extensions in /usr/local/lib/python3.10/dist-packages (from SpeechRecognition) (4.5.0)\n",
            "Requirement already satisfied: xmltodict in /usr/local/lib/python3.10/dist-packages (from wolframalpha) (0.13.0)\n",
            "Requirement already satisfied: more-itertools in /usr/local/lib/python3.10/dist-packages (from wolframalpha) (10.1.0)\n",
            "Requirement already satisfied: jaraco.context in /usr/local/lib/python3.10/dist-packages (from wolframalpha) (4.3.0)\n",
            "Requirement already satisfied: PyJWT<3.0.0,>=2.0.0 in /usr/lib/python3/dist-packages (from twilio) (2.3.0)\n",
            "Requirement already satisfied: aiohttp>=3.8.4 in /usr/local/lib/python3.10/dist-packages (from twilio) (3.9.3)\n",
            "Requirement already satisfied: aiohttp-retry>=2.8.3 in /usr/local/lib/python3.10/dist-packages (from twilio) (2.8.3)\n",
            "Requirement already satisfied: soupsieve>1.2 in /usr/local/lib/python3.10/dist-packages (from beautifulsoup4) (2.5)\n",
            "Requirement already satisfied: aiosignal>=1.1.2 in /usr/local/lib/python3.10/dist-packages (from aiohttp>=3.8.4->twilio) (1.3.1)\n",
            "Requirement already satisfied: attrs>=17.3.0 in /usr/local/lib/python3.10/dist-packages (from aiohttp>=3.8.4->twilio) (23.2.0)\n",
            "Requirement already satisfied: frozenlist>=1.1.1 in /usr/local/lib/python3.10/dist-packages (from aiohttp>=3.8.4->twilio) (1.4.1)\n",
            "Requirement already satisfied: multidict<7.0,>=4.5 in /usr/local/lib/python3.10/dist-packages (from aiohttp>=3.8.4->twilio) (6.0.4)\n",
            "Requirement already satisfied: yarl<2.0,>=1.0 in /usr/local/lib/python3.10/dist-packages (from aiohttp>=3.8.4->twilio) (1.9.4)\n",
            "Requirement already satisfied: async-timeout<5.0,>=4.0 in /usr/local/lib/python3.10/dist-packages (from aiohttp>=3.8.4->twilio) (4.0.3)\n",
            "Requirement already satisfied: charset-normalizer<4,>=2 in /usr/local/lib/python3.10/dist-packages (from requests>=2.26.0->SpeechRecognition) (3.3.2)\n",
            "Requirement already satisfied: idna<4,>=2.5 in /usr/local/lib/python3.10/dist-packages (from requests>=2.26.0->SpeechRecognition) (3.6)\n",
            "Requirement already satisfied: urllib3<3,>=1.21.1 in /usr/local/lib/python3.10/dist-packages (from requests>=2.26.0->SpeechRecognition) (2.0.7)\n",
            "Requirement already satisfied: certifi>=2017.4.17 in /usr/local/lib/python3.10/dist-packages (from requests>=2.26.0->SpeechRecognition) (2023.11.17)\n"
          ]
        }
      ],
      "source": [
        "!pip install SpeechRecognition pyttsx3 wolframalpha wikipedia twilio beautifulsoup4"
      ]
    },
    {
      "cell_type": "code",
      "source": [
        "import wolframalpha\n",
        "import pyttsx3\n",
        "import random\n",
        "import speech_recognition as sr\n",
        "import datetime\n",
        "import wikipedia\n",
        "import os\n",
        "import time\n",
        "import requests\n",
        "from twilio.rest import Client\n",
        "from bs4 import BeautifulSoup\n",
        "from urllib.request import urlopen"
      ],
      "metadata": {
        "id": "20bkTJy_2z9a"
      },
      "execution_count": 14,
      "outputs": []
    },
    {
      "cell_type": "code",
      "source": [
        "!sudo apt-get install libespeak1"
      ],
      "metadata": {
        "colab": {
          "base_uri": "https://localhost:8080/"
        },
        "id": "HeuCXxdXcXBY",
        "outputId": "771993ea-ff6c-4379-f6cf-cbdb3c38d198"
      },
      "execution_count": 15,
      "outputs": [
        {
          "output_type": "stream",
          "name": "stdout",
          "text": [
            "Reading package lists... Done\n",
            "Building dependency tree... Done\n",
            "Reading state information... Done\n",
            "libespeak1 is already the newest version (1.48.15+dfsg-3).\n",
            "0 upgraded, 0 newly installed, 0 to remove and 32 not upgraded.\n"
          ]
        }
      ]
    },
    {
      "cell_type": "code",
      "source": [
        "r = sr.Recognizer()\n",
        "engine = pyttsx3.init()"
      ],
      "metadata": {
        "id": "VppHy4zB3IW1"
      },
      "execution_count": 16,
      "outputs": []
    },
    {
      "cell_type": "code",
      "source": [
        "def speak(text):\n",
        "  engine.say(text)\n",
        "  engine.runAndWait()\n",
        "\n",
        "def listen():\n",
        "  with sr.Microphone() as source:\n",
        "    print(\"Listening...\")\n",
        "    audio = r.listen(source)\n",
        "  try:\n",
        "    text = r.recognize_google(audio)\n",
        "    print(f\"You said: {text}\")\n",
        "    return text.lower()\n",
        "  except sr.UnknownValueError:\n",
        "    print(\"Sorry, I didn't understand what you said.\")\n",
        "  except sr.RequestError:\n",
        "    print(\"Sorry, my speech recognition service is currently down.\")"
      ],
      "metadata": {
        "id": "XavT6sgG7Pdg"
      },
      "execution_count": 17,
      "outputs": []
    },
    {
      "cell_type": "code",
      "source": [
        "def get_time():\n",
        "  now = datetime.datetime.now()\n",
        "  hour = now.strftime(\"%I\")\n",
        "  minute = now.strftime(\"%M\")\n",
        "  am_pm = now.strftime(\"%p\")\n",
        "  speak(f\"The time is {hour}:{minute} {am_pm}.\")\n",
        "\n",
        "def get_name():\n",
        "  speak(\"My name is AIVA.\")\n",
        "\n",
        "def create_note():\n",
        "  speak(\"What should I write in the note?\")\n",
        "  note_text = listen()\n",
        "  filename = datetime.datetime.now().strftime(\"%Y-%m-%d_%H-%M-%S\") + \".txt\"\n",
        "  with open(filename, \"w\") as f:\n",
        "    f.write(note_text)\n",
        "  speak(\"Note saved.\")"
      ],
      "metadata": {
        "id": "PEKhGXDm_CRa"
      },
      "execution_count": 18,
      "outputs": []
    },
    {
      "cell_type": "code",
      "source": [
        "def main():\n",
        "  speak(\"Hello! What can I do for you today?\")\n",
        "\n",
        "  while True:\n",
        "    command = listen()\n",
        "    if \"hello\" in command:\n",
        "      speak(\"Hi there!\")\n",
        "    elif \"how are you\" in command:\n",
        "      speak(\"I'm doing well, thank you.\")\n",
        "    elif \"what's your name\" in command:\n",
        "      get_name()\n",
        "    elif \"time\" in command:\n",
        "      get_time()\n",
        "    elif \"create a name\" in command:\n",
        "      create_note()\n",
        "    elif 'wikipedia' in command:\n",
        "      speak(\"Searching Wikipedia...\")\n",
        "      command = command.replace(\"wikipedia\", \"\")\n",
        "      results = wikipedia.summary(command, sentences = 3)\n",
        "      speak(\"According to Wikipedia\")\n",
        "      print(results)\n",
        "      speak(results)\n",
        "    elif \"play music\" in command or \"play song\" in command:\n",
        "      speak(\"Here you go with music\")\n",
        "      music_dir = \"C:\\\\Users\\\\neelu\\\\Music\"\n",
        "      songs = os.listdir(music_dir)\n",
        "      print(songs)\n",
        "      random = os.startfile(os.path.join(music_dir, songs[1]))\n",
        "    elif \"goodbye\" in command:\n",
        "      speak(\"Goodbye!\")\n",
        "      break\n",
        "    else:\n",
        "      speak(\"I'm sorry, I didn't understand what you said.\")"
      ],
      "metadata": {
        "id": "Ipq_g6SKAUMA"
      },
      "execution_count": 19,
      "outputs": []
    },
    {
      "cell_type": "code",
      "source": [],
      "metadata": {
        "id": "WhxgQMX8fyyg"
      },
      "execution_count": null,
      "outputs": []
    }
  ]
}